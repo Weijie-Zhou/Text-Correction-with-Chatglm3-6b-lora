{
 "cells": [
  {
   "cell_type": "code",
   "execution_count": 1,
   "metadata": {},
   "outputs": [],
   "source": [
    "import json\n",
    "import pandas as pd\n",
    "from sklearn.utils import shuffle"
   ]
  },
  {
   "cell_type": "code",
   "execution_count": 2,
   "metadata": {},
   "outputs": [],
   "source": [
    "instruction_data = []"
   ]
  },
  {
   "cell_type": "markdown",
   "metadata": {},
   "source": [
    "# Task 1: Chinese Grammatical Error Correction"
   ]
  },
  {
   "cell_type": "code",
   "execution_count": 3,
   "metadata": {},
   "outputs": [
    {
     "data": {
      "text/plain": [
       "217630"
      ]
     },
     "execution_count": 3,
     "metadata": {},
     "output_type": "execute_result"
    }
   ],
   "source": [
    "data = []\n",
    "with open('train_large_v2.json', 'r') as f:\n",
    "    for line in f.readlines():\n",
    "        line = json.loads(line.strip())\n",
    "        if line['source'] == line['target']:\n",
    "            continue\n",
    "        line.pop('ID')\n",
    "        line['lens'] = len(line['source'])\n",
    "        data.append(line)\n",
    "df = pd.DataFrame(data)\n",
    "len(df)"
   ]
  },
  {
   "cell_type": "code",
   "execution_count": 4,
   "metadata": {},
   "outputs": [
    {
     "data": {
      "text/plain": [
       "4498"
      ]
     },
     "execution_count": 4,
     "metadata": {},
     "output_type": "execute_result"
    }
   ],
   "source": [
    "# 查看\n",
    "lens_lst = [\n",
    "    {'start': 10, 'end': 30, 'samples': 500},\n",
    "    {'start': 30, 'end': 50, 'samples': 500},\n",
    "    {'start': 50, 'end': 80, 'samples': 500},\n",
    "    {'start': 80, 'end': 100, 'samples': 500},\n",
    "    {'start': 100, 'end': 150, 'samples': 1000},\n",
    "    {'start': 150, 'end': 200, 'samples': 1000},\n",
    "    {'start': 200, 'end': 300, 'samples': 1000},\n",
    "    {'start': 300, 'end': 1000, 'samples': 500},\n",
    "]\n",
    "for lens in lens_lst:\n",
    "    start = lens['start']\n",
    "    end = lens['end']\n",
    "    temp_df = df.loc[(df['lens']>=start) & (df['lens']<end)]\n",
    "    temp_df = shuffle(temp_df)\n",
    "    for temp in temp_df.to_dict(orient='records')[:lens['samples']]:\n",
    "        dic = {}\n",
    "        dic['instruction'] = '请对以下文本进行中文拼写、语法纠错，仅输出纠错后的文本。'\n",
    "        dic['input'] = temp['source']\n",
    "        dic['output'] = temp['target']\n",
    "        instruction_data.append(dic)\n",
    "len(instruction_data)"
   ]
  },
  {
   "cell_type": "markdown",
   "metadata": {},
   "source": [
    "# Task 8: Chinese Spelling Check"
   ]
  },
  {
   "cell_type": "code",
   "execution_count": 5,
   "metadata": {},
   "outputs": [
    {
     "data": {
      "text/plain": [
       "4998"
      ]
     },
     "execution_count": 5,
     "metadata": {},
     "output_type": "execute_result"
    }
   ],
   "source": [
    "with open('data.txt', 'r') as f:\n",
    "    for line in f.readlines():\n",
    "        source, target = line.strip().split('\\t')\n",
    "        if source == target:\n",
    "            continue\n",
    "        dic = {}\n",
    "        dic['instruction'] = '请对以下文本进行中文拼写、语法纠错，仅输出纠错后的文本。'\n",
    "        dic['input'] = source\n",
    "        dic['output'] = target\n",
    "        instruction_data.append(dic)\n",
    "len(instruction_data)"
   ]
  },
  {
   "cell_type": "code",
   "execution_count": 7,
   "metadata": {},
   "outputs": [],
   "source": [
    "with open('text_correct.json', 'w', encoding='utf-8') as f:\n",
    "    json.dump(instruction_data, f, ensure_ascii=False, indent=4)"
   ]
  }
 ],
 "metadata": {
  "kernelspec": {
   "display_name": "pytorch",
   "language": "python",
   "name": "python3"
  },
  "language_info": {
   "codemirror_mode": {
    "name": "ipython",
    "version": 3
   },
   "file_extension": ".py",
   "mimetype": "text/x-python",
   "name": "python",
   "nbconvert_exporter": "python",
   "pygments_lexer": "ipython3",
   "version": "3.7.11"
  }
 },
 "nbformat": 4,
 "nbformat_minor": 2
}
